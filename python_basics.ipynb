{
 "cells": [
  {
   "cell_type": "code",
   "execution_count": 1,
   "id": "69b5c692-00a9-4d2b-935d-8044d481be59",
   "metadata": {},
   "outputs": [
    {
     "name": "stdin",
     "output_type": "stream",
     "text": [
      "what is your name?  sasi\n"
     ]
    },
    {
     "name": "stdout",
     "output_type": "stream",
     "text": [
      "my name is sasi\n"
     ]
    }
   ],
   "source": [
    "a = input(\"what is your name? \")\n",
    "print(\"my name is \" + a)"
   ]
  },
  {
   "cell_type": "code",
   "execution_count": 15,
   "id": "767775d4-2215-42f5-983b-472d8a0d1df8",
   "metadata": {},
   "outputs": [
    {
     "name": "stdin",
     "output_type": "stream",
     "text": [
      "Enter your weight in pounds:  10\n"
     ]
    },
    {
     "name": "stdout",
     "output_type": "stream",
     "text": [
      "4.53592\n"
     ]
    }
   ],
   "source": [
    "w = input(\"Enter your weight in pounds: \")\n",
    "k =  int(w) * 0.453592\n",
    "print(k)"
   ]
  },
  {
   "cell_type": "code",
   "execution_count": 2,
   "id": "debac7db-69fd-4c59-861b-e4eb3cc01d31",
   "metadata": {},
   "outputs": [
    {
     "name": "stdout",
     "output_type": "stream",
     "text": [
      "sasi is  [madhav] a good boy\n"
     ]
    }
   ],
   "source": [
    "s = 'sasi'\n",
    "m = 'madhav'\n",
    "msg = f'{s} is  [{m}] a good boy'\n",
    "print(msg)"
   ]
  },
  {
   "cell_type": "code",
   "execution_count": 6,
   "id": "b22252c3-b793-4cf8-bd99-0f522ecb4a35",
   "metadata": {},
   "outputs": [
    {
     "name": "stdin",
     "output_type": "stream",
     "text": [
      " True\n"
     ]
    },
    {
     "name": "stdout",
     "output_type": "stream",
     "text": [
      "100000.0\n"
     ]
    }
   ],
   "source": [
    "good_credit =  bool(input())\n",
    "price = 1000000\n",
    "if good_credit:\n",
    "    print(0.1 * price)\n",
    "else:\n",
    "    print(price - 20)"
   ]
  },
  {
   "cell_type": "code",
   "execution_count": 8,
   "id": "10b406e3-5d10-471b-a9f9-2f4a3d58e2ae",
   "metadata": {},
   "outputs": [
    {
     "name": "stdin",
     "output_type": "stream",
     "text": [
      "enter the temperature -10\n"
     ]
    },
    {
     "name": "stdout",
     "output_type": "stream",
     "text": [
      "it's a cold day\n"
     ]
    }
   ],
   "source": [
    "temp = int(input('enter the temperature'))\n",
    "if temp>30:\n",
    "    print(\"its's a hot day\")\n",
    "elif temp<10:\n",
    "    print(\"it's a cold day\")\n",
    "else:\n",
    "    print(\"it's neither hot nor cold\")"
   ]
  },
  {
   "cell_type": "code",
   "execution_count": 10,
   "id": "6785dcdd-50f5-468f-93fe-1c1973d045cc",
   "metadata": {},
   "outputs": [
    {
     "name": "stdin",
     "output_type": "stream",
     "text": [
      "enter the name sa\n"
     ]
    },
    {
     "name": "stdout",
     "output_type": "stream",
     "text": [
      "name must be atleast 3 characters long\n"
     ]
    }
   ],
   "source": [
    "name = input(\"enter the name\")\n",
    "if len(name) < 3:\n",
    "    print(\"name must be atleast 3 characters long\")\n",
    "elif len(name) > 30:\n",
    "    print(\"name must be atmost 30 characters long \")\n",
    "else:\n",
    "    print(\"name looks good!\")"
   ]
  },
  {
   "cell_type": "code",
   "execution_count": 9,
   "id": "a2065273-c57f-4502-bfd1-927c724c9fc8",
   "metadata": {},
   "outputs": [
    {
     "name": "stdin",
     "output_type": "stream",
     "text": [
      "enter the weight 3\n",
      "L for pounds  K for Kg  l\n"
     ]
    },
    {
     "name": "stdout",
     "output_type": "stream",
     "text": [
      "1.35\n"
     ]
    }
   ],
   "source": [
    "weight = int(input(\"enter the weight\"))\n",
    "unit = input('L for pounds '   ' K for Kg ')\n",
    "if unit.upper() ==  \"L\" :\n",
    "    print(weight * 0.45)\n",
    "else:\n",
    "    print(weight // 10)\n",
    "             "
   ]
  },
  {
   "cell_type": "code",
   "execution_count": 1,
   "id": "425d9d1e-798a-4b96-b845-3bb09dc2a597",
   "metadata": {},
   "outputs": [
    {
     "name": "stdin",
     "output_type": "stream",
     "text": [
      "guess 9\n"
     ]
    },
    {
     "name": "stdout",
     "output_type": "stream",
     "text": [
      "you have won\n"
     ]
    }
   ],
   "source": [
    "secret_number = 9\n",
    "guess_count = 0\n",
    "guess_limit = 3\n",
    "while guess_count < guess_limit:\n",
    "    guess = int(input('guess'))\n",
    "    guess_count+=1\n",
    "    if guess == secret_number:\n",
    "        print(\"you have won\")\n",
    "        break\n",
    "else:\n",
    "    print(\"you have lose\")"
   ]
  },
  {
   "cell_type": "code",
   "execution_count": 32,
   "id": "e5865fd8-0570-4ad8-ab42-05378d35343a",
   "metadata": {},
   "outputs": [
    {
     "name": "stdin",
     "output_type": "stream",
     "text": [
      ">  start\n"
     ]
    },
    {
     "name": "stdout",
     "output_type": "stream",
     "text": [
      "car is started  .. ready to go\n"
     ]
    },
    {
     "name": "stdin",
     "output_type": "stream",
     "text": [
      ">  start\n"
     ]
    },
    {
     "name": "stdout",
     "output_type": "stream",
     "text": [
      "car is already started\n"
     ]
    },
    {
     "name": "stdin",
     "output_type": "stream",
     "text": [
      ">  quit\n"
     ]
    },
    {
     "name": "stdout",
     "output_type": "stream",
     "text": [
      "quit\n"
     ]
    }
   ],
   "source": [
    "command = \" \"\n",
    "started = False\n",
    "while command.lower()!= \"quit\":\n",
    "    command = input(\"> \")\n",
    "    if command.lower() == \"start\":\n",
    "        if started:\n",
    "            print(\"car is already started\")\n",
    "        else: \n",
    "            started = True\n",
    "            print(\"car is started  .. ready to go\")\n",
    "    elif command.lower() == \"help\":\n",
    "        print('''start - to start the car\n",
    "stop - to stop the car\n",
    "quit - to quit the car''')\n",
    "    elif command.lower() == \"stop\":\n",
    "        if not started:\n",
    "            print(\"car is already stopped\")\n",
    "        else:\n",
    "            started = False\n",
    "            print(\"car is stopped\")\n",
    "    elif command.lower() == \"quit\":\n",
    "         print(\"quit\")\n",
    "         break\n",
    "    else:\n",
    "        print(\"i dont understand that\")\n",
    "     \n",
    "   \n",
    " \n",
    "   \n",
    "        \n",
    "        "
   ]
  },
  {
   "cell_type": "code",
   "execution_count": 35,
   "id": "d5693e71-9b8e-4959-8df1-7978eda1fb6c",
   "metadata": {},
   "outputs": [
    {
     "name": "stdout",
     "output_type": "stream",
     "text": [
      "s\n",
      "a\n",
      "s\n",
      "i\n"
     ]
    }
   ],
   "source": [
    "for item in \"sasi\":\n",
    "   print(item)"
   ]
  },
  {
   "cell_type": "code",
   "execution_count": 11,
   "id": "e2da4f99-9ed1-48be-9f93-50205fe27c8f",
   "metadata": {},
   "outputs": [
    {
     "name": "stdout",
     "output_type": "stream",
     "text": [
      "0\n",
      "38\n",
      "76\n",
      "114\n",
      "152\n"
     ]
    }
   ],
   "source": [
    "i = 19\n",
    "#for t in range(1,10):\n",
    "for t in range(0,10,2):   \n",
    "    k = i * t\n",
    "    print(k)"
   ]
  },
  {
   "cell_type": "code",
   "execution_count": 17,
   "id": "da57a190-8a19-4f75-a8de-453779c2fbc0",
   "metadata": {},
   "outputs": [
    {
     "name": "stdout",
     "output_type": "stream",
     "text": [
      "100\n"
     ]
    }
   ],
   "source": [
    "prices = [10,20,30,  40]\n",
    "total = 0\n",
    "for items in prices:\n",
    "    total += items\n",
    "print(total)\n",
    "  "
   ]
  },
  {
   "cell_type": "code",
   "execution_count": 18,
   "id": "8a0eb13f-7315-4f19-8d18-e16e1d4762a7",
   "metadata": {},
   "outputs": [
    {
     "name": "stdout",
     "output_type": "stream",
     "text": [
      "0\n",
      "19\n",
      "38\n",
      "57\n",
      "76\n",
      "95\n",
      "114\n",
      "133\n",
      "152\n",
      "171\n"
     ]
    }
   ],
   "source": [
    "i =19\n",
    "for t in range(0,10):\n",
    "    c = i*t\n",
    "    print(c)"
   ]
  },
  {
   "cell_type": "code",
   "execution_count": 29,
   "id": "0459cc2c-7986-43cf-b80c-fcb1c3b70967",
   "metadata": {},
   "outputs": [
    {
     "name": "stdout",
     "output_type": "stream",
     "text": [
      "**\n",
      "***\n",
      "****\n",
      "*****\n",
      "******\n",
      "*******\n",
      "********\n",
      "*********\n",
      "**********\n",
      "***********\n"
     ]
    }
   ],
   "source": [
    "i = 1\n",
    "while i<=10:\n",
    "    i += 1\n",
    "    print('*' * i)"
   ]
  },
  {
   "cell_type": "code",
   "execution_count": 31,
   "id": "5fff3cb4-f015-4543-8989-0f5d7da568e1",
   "metadata": {},
   "outputs": [
    {
     "name": "stdout",
     "output_type": "stream",
     "text": [
      "(0,0)\n",
      "(0,1)\n",
      "(0,2)\n",
      "(1,0)\n",
      "(1,1)\n",
      "(1,2)\n",
      "(2,0)\n",
      "(2,1)\n",
      "(2,2)\n",
      "(3,0)\n",
      "(3,1)\n",
      "(3,2)\n"
     ]
    }
   ],
   "source": [
    "#coordinates \n",
    "\n",
    "for x in range(4):\n",
    "    for y in range(3):\n",
    "        print(f\"({x},{y})\")"
   ]
  },
  {
   "cell_type": "code",
   "execution_count": 41,
   "id": "41727f44-a84b-4f4c-9ff7-312adf5795b0",
   "metadata": {},
   "outputs": [
    {
     "name": "stdout",
     "output_type": "stream",
     "text": [
      "xxxxx\n",
      "xx\n",
      "xxxxx\n",
      "xx\n",
      "xx\n"
     ]
    }
   ],
   "source": [
    "#f alphabet\n",
    "\n",
    "\n",
    "\n",
    "numbers = [5,2,5,2,2]\n",
    "for x in numbers:\n",
    "    string = \"\"\n",
    "    for y in range(x):\n",
    "        string += 'x'\n",
    "    print(string)\n",
    "       \n",
    "    "
   ]
  },
  {
   "cell_type": "code",
   "execution_count": 42,
   "id": "ee1386e6-dcd8-4ac0-9266-51e1d9e3ba99",
   "metadata": {},
   "outputs": [
    {
     "name": "stdout",
     "output_type": "stream",
     "text": [
      "xxxxx\n",
      "xx\n",
      "xxxxx\n",
      "xx\n",
      "xx\n"
     ]
    }
   ],
   "source": [
    "#general way of f\n",
    "numbers = [5,2,5,2,2]\n",
    "for x in numbers:\n",
    "    print('x' * x)\n"
   ]
  },
  {
   "cell_type": "code",
   "execution_count": 51,
   "id": "5dcd2549-ce2b-4d7b-a51f-4711cafdd5ff",
   "metadata": {},
   "outputs": [
    {
     "name": "stdout",
     "output_type": "stream",
     "text": [
      "['hi', 'kasi', 'vasi', 'lasi']\n"
     ]
    }
   ],
   "source": [
    "# lists \n",
    "\n",
    "names = ['sasi','masi','kasi','vasi','lasi']\n",
    "names[1] = 'hi'\n",
    "print(names[1: ])\n",
    "#print(names[-2])"
   ]
  },
  {
   "cell_type": "code",
   "execution_count": 56,
   "id": "b154d455-a607-4811-b950-86a4895af900",
   "metadata": {},
   "outputs": [
    {
     "name": "stdout",
     "output_type": "stream",
     "text": [
      "240\n"
     ]
    }
   ],
   "source": [
    "#largest number in the list\n",
    "\n",
    "numbers = [200,100,180,240]\n",
    "max = numbers[0]\n",
    "for i in numbers:\n",
    "    if i > max:\n",
    "        max = i\n",
    "print(i)\n",
    "    \n",
    "    "
   ]
  },
  {
   "cell_type": "code",
   "execution_count": 18,
   "id": "568f5723-a92a-42dc-b56e-ad6516308b17",
   "metadata": {},
   "outputs": [
    {
     "name": "stdout",
     "output_type": "stream",
     "text": [
      "[10, 2, 4, 6, 7, 8]\n"
     ]
    }
   ],
   "source": [
    "#remove duplicates in the list\n",
    "\n",
    "numbers = [10,2,4,6,7,7,8,6]\n",
    "uniques=[]\n",
    "for i in numbers:\n",
    "    if i not in uniques:\n",
    "        uniques.append(i)\n",
    "print(uniques)\n",
    "        "
   ]
  },
  {
   "cell_type": "code",
   "execution_count": 21,
   "id": "0c74d022-2c58-4d12-bc20-7af2f245fa34",
   "metadata": {},
   "outputs": [
    {
     "name": "stdout",
     "output_type": "stream",
     "text": [
      "2\n"
     ]
    }
   ],
   "source": [
    "#unpacking\n",
    "\n",
    "coordinates =(1,2,3)\n",
    "x,y,z = coordinates\n",
    "print(y)\n"
   ]
  },
  {
   "cell_type": "code",
   "execution_count": 31,
   "id": "67f0dfca-3a29-4864-8359-f010aa45b891",
   "metadata": {},
   "outputs": [
    {
     "name": "stdout",
     "output_type": "stream",
     "text": [
      "22\n",
      "22,34,55\n"
     ]
    }
   ],
   "source": [
    "#DICTIONARY\n",
    "\n",
    "customer = {\n",
    "\n",
    "    \"name\" : 'sasi',\n",
    "    \"age\": 22,\n",
    "    \"bday\" : \"15/03/2002\",\n",
    "}\n",
    "#print(customer[\"bday\"])\n",
    "print(customer.get(\"age\"))\n",
    "print(customer.get(\"ages\",\"22,34,55\"))\n"
   ]
  },
  {
   "cell_type": "code",
   "execution_count": 43,
   "id": "8ebe657b-93ca-4690-9a46-66c8ef70a9ff",
   "metadata": {},
   "outputs": [
    {
     "name": "stdin",
     "output_type": "stream",
     "text": [
      "enter mobile number 345\n"
     ]
    },
    {
     "name": "stdout",
     "output_type": "stream",
     "text": [
      " three four five \n"
     ]
    }
   ],
   "source": [
    "#num to words\n",
    "n = (input('enter mobile number'))\n",
    "digits_mapping = {\n",
    "    \"1\" : \"one\",\n",
    "    \"2\" : \"two\",\n",
    "    \"3\" : \"three\",\n",
    "    \"4\" : \"four\",\n",
    "    \"5\" : \"five\",\n",
    "    \"0\" : \"zero\"\n",
    "    \n",
    "}\n",
    "output = \" \"\n",
    "for i in n:\n",
    "    output += digits_mapping.get(i  ,  \"!\") + \" \"\n",
    "print(output)\n",
    "    \n",
    "\n",
    "        "
   ]
  },
  {
   "cell_type": "code",
   "execution_count": 11,
   "id": "5e456e4f-c698-46cb-a388-e24e74d75da5",
   "metadata": {},
   "outputs": [
    {
     "name": "stdin",
     "output_type": "stream",
     "text": [
      " :(..\n"
     ]
    },
    {
     "name": "stdout",
     "output_type": "stream",
     "text": [
      " 🥲 \n"
     ]
    }
   ],
   "source": [
    "message = input()\n",
    "words = message.split()\n",
    "emojis = {\n",
    "\n",
    "    \":)\" : \"☺️\",\n",
    "    \":(\" : \"😒\",\n",
    "    \":(..\": \"🥲\"\n",
    "}\n",
    "output = \" \"\n",
    "for word in words:\n",
    "    \n",
    "   output += emojis.get(word,word)+\" \"\n",
    "print(output)\n"
   ]
  },
  {
   "cell_type": "code",
   "execution_count": 63,
   "id": "05e16bf4-c582-4eb3-9b99-0af2dcc746ec",
   "metadata": {},
   "outputs": [],
   "source": [
    "def add_two():\n",
    "    a = c+d\n",
    "    print(a)\n",
    "\n",
    "    \n",
    "    for c in range(10): \n",
    "        for d in range(10):    \n",
    "           add_two()\n",
    "\n",
    "       "
   ]
  },
  {
   "cell_type": "code",
   "execution_count": 66,
   "id": "190a425b-c154-409f-b3a5-4093176b7ec7",
   "metadata": {},
   "outputs": [
    {
     "name": "stdout",
     "output_type": "stream",
     "text": [
      "hello enter your name\n"
     ]
    },
    {
     "name": "stdin",
     "output_type": "stream",
     "text": [
      " sasi\n"
     ]
    },
    {
     "name": "stdout",
     "output_type": "stream",
     "text": [
      "welcome to isas\n",
      "happy to see you sasi\n"
     ]
    },
    {
     "name": "stdin",
     "output_type": "stream",
     "text": [
      " kavitha\n"
     ]
    },
    {
     "name": "stdout",
     "output_type": "stream",
     "text": [
      "welcome to isas\n",
      "happy to see you kavitha\n",
      "bye\n"
     ]
    }
   ],
   "source": [
    "def print_stat(name):\n",
    "    print('welcome to isas')\n",
    "    print(f'happy to see you {name}')\n",
    "\n",
    "\n",
    "print(\"hello enter your name\")\n",
    "print_stat(input())\n",
    "print_stat(input())\n",
    "print(\"bye\")"
   ]
  },
  {
   "cell_type": "code",
   "execution_count": 99,
   "id": "a152ad8f-3fa3-40d2-8471-7693f5acb3f7",
   "metadata": {},
   "outputs": [
    {
     "name": "stdout",
     "output_type": "stream",
     "text": [
      "enter two numbers:\n"
     ]
    },
    {
     "name": "stdin",
     "output_type": "stream",
     "text": [
      " 2\n",
      " 3\n"
     ]
    },
    {
     "ename": "TypeError",
     "evalue": "'str' object cannot be interpreted as an integer",
     "output_type": "error",
     "traceback": [
      "\u001b[0;31m---------------------------------------------------------------------------\u001b[0m",
      "\u001b[0;31mTypeError\u001b[0m                                 Traceback (most recent call last)",
      "Cell \u001b[0;32mIn[99], line 7\u001b[0m\n\u001b[1;32m      3\u001b[0m     \u001b[38;5;28mprint\u001b[39m(\u001b[38;5;124m'\u001b[39m\u001b[38;5;124mk\u001b[39m\u001b[38;5;124m'\u001b[39m)\n\u001b[1;32m      6\u001b[0m \u001b[38;5;28mprint\u001b[39m(\u001b[38;5;124m\"\u001b[39m\u001b[38;5;124menter two numbers:\u001b[39m\u001b[38;5;124m\"\u001b[39m)\n\u001b[0;32m----> 7\u001b[0m add(\u001b[38;5;28mint\u001b[39m(\u001b[38;5;28minput\u001b[39m(),\u001b[38;5;28minput\u001b[39m()))\n",
      "\u001b[0;31mTypeError\u001b[0m: 'str' object cannot be interpreted as an integer"
     ]
    }
   ],
   "source": [
    "def add(c,d):\n",
    "    k = int(c*d)\n",
    "    print('k')\n",
    "\n",
    "\n",
    "print(\"enter two numbers:\")\n",
    "add(int(input(),input()))\n",
    "\n",
    "\n",
    "\n",
    "  \n",
    "       \n"
   ]
  },
  {
   "cell_type": "code",
   "execution_count": 104,
   "id": "2eb04971-b2f8-4a20-b30b-29e37440b762",
   "metadata": {},
   "outputs": [
    {
     "name": "stdin",
     "output_type": "stream",
     "text": [
      "enter a number 2\n"
     ]
    },
    {
     "name": "stdout",
     "output_type": "stream",
     "text": [
      "4\n"
     ]
    }
   ],
   "source": [
    "#square\n",
    "\n",
    "def square(num):\n",
    "    return num * num\n",
    "\n",
    "#result = square(int(input()))\n",
    "#print(result)\n",
    "print(square(int(input('enter a number'))))"
   ]
  },
  {
   "cell_type": "code",
   "execution_count": null,
   "id": "058e2b78-b312-400b-90a0-c9c07b70bb60",
   "metadata": {},
   "outputs": [],
   "source": []
  }
 ],
 "metadata": {
  "kernelspec": {
   "display_name": "Python 3 (ipykernel)",
   "language": "python",
   "name": "python3"
  },
  "language_info": {
   "codemirror_mode": {
    "name": "ipython",
    "version": 3
   },
   "file_extension": ".py",
   "mimetype": "text/x-python",
   "name": "python",
   "nbconvert_exporter": "python",
   "pygments_lexer": "ipython3",
   "version": "3.11.7"
  }
 },
 "nbformat": 4,
 "nbformat_minor": 5
}
